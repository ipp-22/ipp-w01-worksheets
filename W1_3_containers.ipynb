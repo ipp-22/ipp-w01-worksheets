{
 "cells": [
  {
   "cell_type": "markdown",
   "metadata": {},
   "source": [
    "# W1.3. Containers: lists, tuples, and dictionaries\n",
    "\n",
    "So far, we have seen object types consisting of essentially a single item of data. It is useful to have data types that can represent more than a single value -- for instance, in mathematics, we might want to represent a matrix or a vector. Python offers a number of different built-in object types to do this, called **containers** -- because they can contain other objects with different types.\n",
    "\n",
    "The best way to learn programming is to write code. Don't hesitate to edit the code in the example cells, or add your own code, to test your understanding. You will find practice exercises throughout the notebook, denoted by 🚩 ***Exercise $x$:***.\n",
    "\n",
    "#### Displaying solutions\n",
    "\n",
    "Solutions will be released one week after the worksheets are released, as a new `.txt` file. After uploading the solution file in the same folder as this worksheet, run the following cell to create clickable buttons under each exercise, which will allow you to reveal the solutions."
   ]
  },
  {
   "cell_type": "code",
   "execution_count": null,
   "metadata": {},
   "outputs": [],
   "source": [
    "%run scripts/create_widgets.py 'W1'"
   ]
  },
  {
   "cell_type": "markdown",
   "metadata": {},
   "source": [
    "---\n",
    "## Lists\n",
    "\n",
    "Lists are what they sound like -- a list is an object which can contain a number of other objects, in a certain order.\n",
    "\n",
    "A list can be defined by listing its elements inside square brackets `[...]`, separated by commas. For example, let us create a few lists, and assign them to variables:"
   ]
  },
  {
   "cell_type": "code",
   "execution_count": null,
   "metadata": {},
   "outputs": [],
   "source": [
    "a = [1, 2, 3, 10, 6]\n",
    "b = ['Hi', 'how', 'are', 'you?']\n",
    "c = ['my', 1, 4.5, ['you', 'they'], 432, -2.3, 33]\n",
    "d = []\n",
    "\n",
    "print(a)\n",
    "print(b[0])\n",
    "print(c[-3])"
   ]
  },
  {
   "cell_type": "markdown",
   "metadata": {},
   "source": [
    "A few important things to note here:\n",
    "* An **empty list** is created by typing square brackets with nothing in between `[]`.\n",
    "* A list can contain **mixed data** -- its elements need not have the same type.\n",
    "* A list can contain other lists -- in fact, in general, containers may be **nested** in other containers.\n",
    "* The individual elements of a list are **indexed** -- they can be accessed in a similar way to the characters in a string, by referring to their position in square brackets. Remember that indexing in Python starts from `0`.\n",
    "\n",
    "We can go back to the drawer analogy to try and visualise how lists are stored in memory. For instance, consider the list `a` here:\n",
    "\n",
    "<div style=\"width:70%;margin:auto;\">\n",
    "\n",
    "| `a = [1, 2, 3, 10, 6]` |\n",
    "|:--:|\n",
    "| ![The list a in memory](graphics/lists.png) |\n",
    "\n",
    "</div>\n",
    "\n",
    "The objects are created and stored in memory as before, but now they are put in a list container labelled `a` (the yellow box/drawer), in a specific order. To access any one particular object, we use its *index* in the list (the yellow label), which indicates its position.\n",
    "\n",
    "The following examples demonstrate some of the ways to manipulate lists -- make sure to run the previous code cell first to define `a`, `b`, and `c`. Don't hesitate to try more examples to test your understanding."
   ]
  },
  {
   "cell_type": "code",
   "execution_count": null,
   "metadata": {},
   "outputs": [],
   "source": [
    "# Join two lists together\n",
    "print(a + b)\n",
    "\n",
    "# Find the length of a list\n",
    "print(len(b))\n",
    "\n",
    "# Append (add) an item to the end of a list\n",
    "c.append('extra')\n",
    "print(c)\n",
    "\n",
    "# Print the 2nd element of the 4th element of c\n",
    "print(c[3][1])\n",
    "\n",
    "# Sort a list\n",
    "print(sorted(a))\n",
    "\n",
    "# Create a list with 12 repetitions of the same sequence\n",
    "print(12 * [3, 0, 'y'])\n",
    "\n",
    "# Check if something is in a list\n",
    "print('my' in c)\n",
    "print('you' in c)\n",
    "print('you' in c[3])\n",
    "print(7 in a)"
   ]
  },
  {
   "cell_type": "markdown",
   "metadata": {},
   "source": [
    "---\n",
    "🚩 ***Exercise 9:*** A list of numbers can be used to represent, for example, a vector. Create a list `my_mat` to represent the $2 \\times 2$ identity matrix, that is\n",
    "\n",
    "$$\n",
    "\\begin{bmatrix}\n",
    "1 & 0 \\\\\n",
    "0 & 1\n",
    "\\end{bmatrix}.\n",
    "$$\n",
    "\n",
    "Then, modify `my_mat` to represent the $3\\times 3$ identity matrix, using the `.append()` method.\n",
    "\n",
    "*Hint:* you can think of a matrix as a collection of row vectors."
   ]
  },
  {
   "cell_type": "code",
   "execution_count": null,
   "metadata": {},
   "outputs": [],
   "source": []
  },
  {
   "cell_type": "code",
   "execution_count": null,
   "metadata": {
    "tags": [
     "solution_cell"
    ]
   },
   "outputs": [],
   "source": [
    "%run scripts/show_solutions.py 'W1_ex9'"
   ]
  },
  {
   "cell_type": "markdown",
   "metadata": {},
   "source": [
    "---\n",
    "### Slicing\n",
    "\n",
    "So far, we have seen how to create and manipulate lists, and how to operate on any single element of a list. It is often convenient to access several list elements at a time. **Index slicing** allows us to extract a new list from any subsequence of an existing list. For example:"
   ]
  },
  {
   "cell_type": "code",
   "execution_count": null,
   "metadata": {},
   "outputs": [],
   "source": [
    "a = [2, 5, 4, 8, 8]\n",
    "print(a[1:3])\n",
    "print(a[2:])\n",
    "print(a[:-2])"
   ]
  },
  {
   "cell_type": "markdown",
   "metadata": {},
   "source": [
    "Index slicing uses the colon `:` character. For instance, the command `print(a[2:])` displayed all elements of `a`, starting from the third element (with index `2`). The general syntax to access a subsequence of a list `l` is as follows:\n",
    "```python\n",
    "l[start:stop]        # from start to stop-1\n",
    "l[start:]            # from start to len(l)-1\n",
    "l[:stop]             # from 0 to stop-1\n",
    "l[start:stop:step]   # from start to stop-1, with increment step\n",
    "l[::step]            # from 0 to len(l)-1, with increment step\n",
    "l[::], l[:]          # all the elements\n",
    "```\n",
    "\n",
    "A couple of things to note:\n",
    "* As was the case for indexing single elements, we can use negative indices when slicing to indicate positions starting from the end of the list.\n",
    "* The second index `stop` indicates the **first element of `l` which is not accessed**. In other words, `l[i:j]` returns `[l[i], l[i+1], ..., l[j-2], l[j-1]]`, and **excludes** `l[j]`. You can see this in the first example above: `a[1:3]` returned `[a[1], a[2]]`.\n",
    "* If `j` $=$ `i`, then `a[i:j]` and `a[i:j:k]` are empty lists, for any value of `k`.\n",
    "* If `j` $<$ `i`, then `a[i:j]` and `a[i:j:k]` are empty lists, for *positive* values of `k`.\n",
    "\n",
    "---\n",
    "**📚 Learn more:**\n",
    "* [Lists - An informal introduction to Python - Python 3.7 documentation](https://docs.python.org/3/tutorial/introduction.html#lists)\n",
    "* [More on lists - Python 3.7 documentation](https://docs.python.org/3/tutorial/datastructures.html#more-on-lists) - more examples of list methods, to perform different operations on lists.\n",
    "\n",
    "---\n",
    "\n",
    "🚩 ***Exercise 10:*** Consider the list `m` below. What is the most concise way to create a new list `m_back`, which takes as value the list `m`, backwards? In other words, `print(m_back)` should display\n",
    "```\n",
    "['e', 'd', 'c', 'b', 'a']\n",
    "```"
   ]
  },
  {
   "cell_type": "code",
   "execution_count": null,
   "metadata": {},
   "outputs": [],
   "source": [
    "m = ['a', 'b', 'c', 'd', 'e']\n",
    "\n"
   ]
  },
  {
   "cell_type": "code",
   "execution_count": null,
   "metadata": {
    "tags": [
     "solution_cell"
    ]
   },
   "outputs": [],
   "source": [
    "%run scripts/show_solutions.py 'W1_ex10'"
   ]
  },
  {
   "cell_type": "markdown",
   "metadata": {},
   "source": [
    "---\n",
    "🚩 ***Exercise 11:*** Create a variable `n`, with value $n \\in \\mathbb{N}$ such that $5 \\leq n \\leq 20$. Create a list `my_list` of $n - 1$ ones. Then, append $\\pi$ to the list -- its length should now be $n$. Finally, change the value of the $3$rd element of `my_list` to be the sum of its last $n - 4$ elements.\n",
    "\n",
    "For example, for $n=6$, `print(my_list)` should display\n",
    "```\n",
    "[1, 1, 4.141592653589793, 1, 1, 3.141592653589793]\n",
    "```\n",
    "\n",
    "*Hint:* You may wish to use the [sum()](https://docs.python.org/3/library/functions.html#sum) function (a list is a type of *iterable*)."
   ]
  },
  {
   "cell_type": "code",
   "execution_count": null,
   "metadata": {},
   "outputs": [],
   "source": []
  },
  {
   "cell_type": "code",
   "execution_count": null,
   "metadata": {
    "tags": [
     "solution_cell"
    ]
   },
   "outputs": [],
   "source": [
    "%run scripts/show_solutions.py 'W1_ex11'"
   ]
  },
  {
   "cell_type": "markdown",
   "metadata": {},
   "source": [
    "---\n",
    "There is already a lot you can do in Python using just lists as data containers. However, depending on the structure of the data you are handling, lists may not always be the most convenient or efficient container. It is worth introducing two more built-in container types which you will certainly come across: *tuples* and *dictionaries*.\n",
    "\n",
    "## Tuples\n",
    "\n",
    "**Tuples** share similarities with lists; an important difference is that tuples are **immutable** --- that is, you cannot change its elements after it is defined. A tuple can be created by typing a sequence of values separated by a comma, surrounded by round brackets `(...)`. For example,\n",
    "```\n",
    "a = (4, 6, -2, 4, 0, 0)\n",
    "```\n",
    "We can access elements or subsequences of a tuple using indexing and slicing, just as for lists. Many of the functions and some of the operators we have used to operate on lists can also be used with tuples. For example:"
   ]
  },
  {
   "cell_type": "code",
   "execution_count": null,
   "metadata": {},
   "outputs": [],
   "source": [
    "a = (4, 6, -2, 4, 0, 0)     # A tuple of numbers\n",
    "b = ()                      # An empty tuple\n",
    "c = (2, 2, (-4, 5), 2)      # A nested tuple\n",
    "d = (0.1, 'that', 2)        # Tuples can also contain mixed data\n",
    "e = (8,)                    # A tuple with 1 element -- note the trailing comma!\n",
    "\n",
    "# We can nest tuples in lists...\n",
    "f = [(1, 2), (), e, ('this', 'maybe')]\n",
    "\n",
    "# ... and lists in tuples\n",
    "g = ([3, 4], [3], 0, [0.122, -0.1])\n",
    "\n",
    "# Indexing and slicing also work on tuples\n",
    "print('Indexing:')\n",
    "print(a[2:])\n",
    "print(g[3][0])\n",
    "print(f[:3])\n",
    "\n",
    "# Some functions we can use...\n",
    "print('\\nFunctions:')   # The `\\n` stands for \"new line\" here.\n",
    "print(len(d))\n",
    "print(sorted(a))        # Note that sorted() still returns a list!\n",
    "print(tuple(sorted(a))) # Casting a list to a tuple\n",
    "print(list(d))          # Casting a tuple to a list\n",
    "\n",
    "# And some operators...\n",
    "print('\\nOperators:')\n",
    "print(d + c)\n",
    "print((2, -0.33) * 5)\n",
    "print(e in f)"
   ]
  },
  {
   "cell_type": "markdown",
   "metadata": {},
   "source": [
    "A useful feature is that variables can be **unpacked** from a tuple, meaning that we can, for example, assign the value of each element in a tuple to a different variable, in one line:"
   ]
  },
  {
   "cell_type": "code",
   "execution_count": null,
   "metadata": {},
   "outputs": [],
   "source": [
    "u, v, w = (3.4, 1, 'friday')\n",
    "print(u)\n",
    "print(w)"
   ]
  },
  {
   "cell_type": "markdown",
   "metadata": {},
   "source": [
    "---\n",
    "**Note:** Lists, tuples, and strings are examples of **sequences**, meaning that their elements (for a `str`, its characters) are *ordered*, and indexed by a number representing their position. Index slicing can also be used on any sequence type.\n",
    "\n",
    "---\n",
    "**📚 Learn more:**\n",
    "* [Tuples and Sequences - Python 3.7 documentation](https://docs.python.org/3/tutorial/datastructures.html?highlight=lists#tuples-and-sequences)\n",
    "* [Sequence types: list, tuple, range - Python 3.7 documentation](https://docs.python.org/3/library/stdtypes.html#sequence-types-list-tuple-range)\n",
    "---\n",
    "\n",
    "## Dictionaries\n",
    "\n",
    "A Python **dictionary** is a set of *key-value* pairs. Each value is indexed by a distinct key, which may be a number, a string, or a tuple of numbers or strings. (In contrast, each value in a list or a tuple is indexed by a positive integer, corresponding to its position.) Dictionary values can be any object (e.g. numbers, sequences, booleans, even other nested dictionaries).\n",
    "\n",
    "A dictionary can be created from a comma-separated list of `key: value` pairs, surrounded by curly brackets `{}`, for example"
   ]
  },
  {
   "cell_type": "code",
   "execution_count": null,
   "metadata": {},
   "outputs": [],
   "source": [
    "scores = {'Alice': 80, 'Bob': 64, 'Charlie': 72}\n",
    "print(scores['Bob'])"
   ]
  },
  {
   "cell_type": "markdown",
   "metadata": {},
   "source": [
    "<div style=\"width:70%;margin:auto;\">\n",
    "\n",
    "| `scores = {'Alice': 80, 'Bob': 64, 'Charlie': 72}` |\n",
    "|:--:|\n",
    "| ![The dictionary scores in memory](graphics/dict.png) |\n",
    "\n",
    "</div>\n",
    "\n",
    "The following *dictionary methods* allow you to access the elements of a dictionary in different ways. Make sure to run the cell above beforehand to define the `scores` dictionary."
   ]
  },
  {
   "cell_type": "code",
   "execution_count": null,
   "metadata": {},
   "outputs": [],
   "source": [
    "print(scores)                # Print the dictionary object\n",
    "print(list(scores.items()))  # Print dict items as a list of tuples\n",
    "print(list(scores.keys()))   # Print all keys in a list\n",
    "print(list(scores.values())) # Print all values in a list"
   ]
  },
  {
   "cell_type": "markdown",
   "metadata": {},
   "source": [
    "We can add and modify dictionary entries, or check whether a *key* exists in a dictionary:"
   ]
  },
  {
   "cell_type": "code",
   "execution_count": null,
   "metadata": {},
   "outputs": [],
   "source": [
    "# Create an empty dictionary\n",
    "my_dict = {}\n",
    "\n",
    "# Add 3 new items\n",
    "my_dict['First item'] = (4, 5)\n",
    "my_dict['Second item'] = 'blue'\n",
    "my_dict[(0, 1)] = True\n",
    "print(my_dict)\n",
    "print(len(my_dict))\n",
    "\n",
    "# Modify one item\n",
    "my_dict['Second item'] = 8.77\n",
    "print(my_dict)\n",
    "\n",
    "# Check if a key (not a value!) exists in the dictionary\n",
    "print((0, 1) in my_dict)\n",
    "print((4, 5) in my_dict)"
   ]
  },
  {
   "cell_type": "markdown",
   "metadata": {},
   "source": [
    "---\n",
    "**📚 Learn more:**\n",
    "* [Dictionaries - Python 3.7 documentation](https://docs.python.org/3/tutorial/datastructures.html?highlight=lists#dictionaries) - introduction and some examples.\n",
    "* [Mapping types - Dictionary - Python 3.7 documentation](https://docs.python.org/3/library/stdtypes.html#typesmapping) - includes a list of operations which dictionaries support.\n",
    "---\n",
    "\n",
    "🚩 ***Exercise 12:*** The dictionary `grades` below contains the grades that 3 students, Alice, Bob, and Charlie, obtained so far this semester in their school subjects. Complete the code (without touching the first 3 lines!) to:\n",
    "- update Alice's maths grade to a B, and\n",
    "- add a new C grade in English for Charlie,\n",
    "- add grades for a new student, Dara, with a B in maths and a D in history."
   ]
  },
  {
   "cell_type": "code",
   "execution_count": null,
   "metadata": {},
   "outputs": [],
   "source": [
    "grades = {'Alice': {'maths': 'A', 'english': 'C', 'music': 'B'},\n",
    "          'Bob': {'maths': 'C', 'english': 'A', 'history': 'A'},\n",
    "          'Charlie': {'physics': 'D', 'music': 'A', 'biology': 'A'}}\n",
    "\n"
   ]
  },
  {
   "cell_type": "code",
   "execution_count": null,
   "metadata": {
    "tags": [
     "solution_cell"
    ]
   },
   "outputs": [],
   "source": [
    "%run scripts/show_solutions.py 'W1_ex12'"
   ]
  }
 ],
 "metadata": {
  "kernelspec": {
   "display_name": "Python 3 (ipykernel)",
   "language": "python",
   "name": "python3"
  },
  "language_info": {
   "codemirror_mode": {
    "name": "ipython",
    "version": 3
   },
   "file_extension": ".py",
   "mimetype": "text/x-python",
   "name": "python",
   "nbconvert_exporter": "python",
   "pygments_lexer": "ipython3",
   "version": "3.9.12"
  }
 },
 "nbformat": 4,
 "nbformat_minor": 4
}

{
 "cells": [
  {
   "cell_type": "markdown",
   "metadata": {},
   "source": [
    "# W1.4. Control flow: conditional statements, functions\n",
    "\n",
    "So far we have seen that Python executes a set of commands from top to bottom, in the order in which you have scripted them. *Control flow* lets you decide *when*, *how many times*, or *under what condition(s)* to execute certain parts of your code, allowing you more control over the structure (or *flow*) of the code. In this worksheet, we introduce our first control flow tools: conditional statements, and functions.\n",
    "\n",
    "The best way to learn programming is to write code. Don't hesitate to edit the code in the example cells, or add your own code, to test your understanding. You will find practice exercises throughout the notebook, denoted by 🚩 ***Exercise $x$:***.\n",
    "\n",
    "#### Displaying solutions\n",
    "\n",
    "Solutions will be released one week after the worksheets are released, as a new `.txt` file. After uploading the solution file in the same folder as this worksheet, run the following cell to create clickable buttons under each exercise, which will allow you to reveal the solutions."
   ]
  },
  {
   "cell_type": "code",
   "execution_count": null,
   "metadata": {},
   "outputs": [],
   "source": [
    "%run scripts/create_widgets.py 'W1'"
   ]
  },
  {
   "cell_type": "markdown",
   "metadata": {},
   "source": [
    "---\n",
    "## Conditional statements\n",
    "\n",
    "Conditional statements allow us to create different branches in our code, to separate different instructions to be executed under specific conditions.\n",
    "\n",
    "### `if` statements\n",
    "\n",
    "Booleans can be used to execute or skip certain instructions under given conditions, using `if` statements. The syntax is as follows:\n",
    "```python\n",
    "if my_condition:\n",
    "    [some instructions]\n",
    "```\n",
    "where `my_condition` is a Boolean object whose value is either `True` or `False`. A few examples:"
   ]
  },
  {
   "cell_type": "code",
   "execution_count": null,
   "metadata": {},
   "outputs": [],
   "source": [
    "# Define some variables\n",
    "a = 4.3\n",
    "b = 5.1\n",
    "c = 'hello'\n",
    "i = 1\n",
    "j = 8\n",
    "z = True\n",
    "\n",
    "if i == j:\n",
    "    # This is not true -- any instructions\n",
    "    # in this block are ignored\n",
    "    print('i and j are equal')\n",
    "\n",
    "if i < j:\n",
    "    print('i is less than j')\n",
    "    \n",
    "if type(i) == int:\n",
    "    print('i is an integer')\n",
    "\n",
    "if type(c) == str and type(j) != float:\n",
    "    print('c is a string and j is not a float')\n",
    "\n",
    "if (a + b) > 7:\n",
    "    print(a + b)\n",
    "\n",
    "if z:\n",
    "    print(a)\n",
    "\n",
    "if j:\n",
    "    # Recall boolean casting in W1...\n",
    "    print('j is not zero nor empty')"
   ]
  },
  {
   "cell_type": "markdown",
   "metadata": {},
   "source": [
    "In the last example, although `j` does not point to a Boolean object, it is *interpreted* as a Boolean, because it follows the `if` keyword --- recall the section on type casting in W1.2.\n",
    "\n",
    "A very important thing to note here is **indentation**. The way Python knows where a given branch starts and ends is by looking at the indentation level of the commands following the `if` statement. As soon as the indentation level is brought back to the same level as the `if` statement, we are back in the main part of the code.\n",
    "\n",
    "---\n",
    "**Note:** Briefly going back to code style, it is standard in most style guides to count 4 spaces as 1 indentation level. Most of the time, Jupyter indents and de-dents code automatically, by adding or removing 4 spaces at the start of lines when it deems it relevant.\n",
    "\n",
    "You can select one or more lines in any code cell, and press <kbd>Tab</kbd> to indent by 1 level.\n",
    "\n",
    "---\n",
    "\n",
    "### `if`-`elif`-`else` blocks\n",
    "\n",
    "To check multiple conditions one after another, we can use `if`-`elif`-`else` blocks (`elif` is short for \"else if\"). The syntax is\n",
    "```python\n",
    "if cond_1:\n",
    "    # [some instructions, executed if cond_1 is true]\n",
    "elif cond_2:\n",
    "    # [other instructions, executed if cond_1 is false,\n",
    "    # but cond_2 is true]\n",
    "else:\n",
    "    # [other instructions, executed if both cond_1 and cond_2\n",
    "    # are false]\n",
    "```\n",
    "Note, in particular, that the conditions in an `if`-`elif`-`else` block are checked in order, and **only one** branch is executed.\n",
    "\n",
    "Here is an example:"
   ]
  },
  {
   "cell_type": "code",
   "execution_count": null,
   "metadata": {},
   "outputs": [],
   "source": [
    "a = 4.9\n",
    "b = 5.4\n",
    "\n",
    "if a > b:\n",
    "    print('a is greater than b')\n",
    "elif a < b:\n",
    "    print('a is smaller than b')\n",
    "else:\n",
    "    print('a is equal to b')"
   ]
  },
  {
   "cell_type": "markdown",
   "metadata": {},
   "source": [
    "---\n",
    "**Learn more:**\n",
    "* [More flow control tools - Python 3.7 documentation](https://docs.python.org/3/tutorial/controlflow.html)\n",
    "* [Boolean operations - Python 3.7 documentation](https://docs.python.org/3/reference/expressions.html#boolean-operations)\n",
    "\n",
    "---\n",
    "🚩 ***Exercise 13:*** The following code generates a random integer `n` between 1 and 1000. Complete the code such that running the cell displays a sentence indicating whether `n` is\n",
    "- a multiple of both 3 and 7,\n",
    "- a multiple of either 3 or 7 (but not both),\n",
    "- or neither.\n",
    "\n",
    "*Note: the generated random number will be different every time you run the cell. It is generated using [NumPy's random number functionality](https://numpy.org/doc/stable/reference/random/generated/numpy.random.Generator.integers.html#numpy.random.Generator.integers).*"
   ]
  },
  {
   "cell_type": "code",
   "execution_count": null,
   "metadata": {},
   "outputs": [],
   "source": [
    "import numpy as np\n",
    "\n",
    "# Create a random number generator object\n",
    "rng = np.random.default_rng()\n",
    "\n",
    "# Use the generator rng to get a random integer between 1 and 1000\n",
    "n = rng.integers(1, 1001)\n",
    "\n"
   ]
  },
  {
   "cell_type": "code",
   "execution_count": null,
   "metadata": {
    "tags": [
     "solution_cell"
    ]
   },
   "outputs": [],
   "source": [
    "%run scripts/show_solutions.py 'W1_ex13'"
   ]
  },
  {
   "cell_type": "markdown",
   "metadata": {},
   "source": [
    "---\n",
    "## Defining functions\n",
    "\n",
    "So far, we have used some of the built-in Python functions (e.g. `print()`, `sorted()`), and functions like `numpy.sin()` or `numpy.sqrt()` which come with the `numpy` module.\n",
    "\n",
    "You can also define your own custom functions to encapsulate specific subtasks and structure your programs. A **function** is essentially a block of code which only *executes* when the function is *called*. A Python function can be defined using\n",
    "```python\n",
    "def my_func(inputs):\n",
    "    [function body]\n",
    "    return outputs\n",
    "```\n",
    "where\n",
    "* `my_func` is the *name* of your function,\n",
    "* `inputs` are the (zero or more) **input arguments**,\n",
    "* `[function body]` are the commands to execute upon *calling* the function,\n",
    "* `outputs` are the (zero or more) **return values** or **output values**.\n",
    "\n",
    "For example, we can define Python functions to represent mathematical functions. Consider the function\n",
    "\n",
    "$$\n",
    "f(x) = \\frac{3x - 2}{\\sqrt{2x + 1}}.\n",
    "$$\n",
    "\n",
    "We can write a function `f()`, which takes a variable `x` as an input argument, with some value $x$, and returns the value of $f(x)$:"
   ]
  },
  {
   "cell_type": "code",
   "execution_count": null,
   "metadata": {},
   "outputs": [],
   "source": [
    "import math\n",
    "\n",
    "def f(x):\n",
    "    y = (3*x - 2) / math.sqrt(2*x + 1)\n",
    "    return y"
   ]
  },
  {
   "cell_type": "markdown",
   "metadata": {},
   "source": [
    "The function `f()` is now defined, but note that nothing seems to happen when running the above cell. The function hasn't been **called** (i.e. used), so the instructions in the function body are not executed. Simply speaking, we are merely providing the *Python interpreter* with a set of instructions, so that it knows what to do in case we ask it, for instance, to compute `f(5)`. Functions, like everything else in Python, are also **objects** --- it may be helpful to visualise them as recipes or blueprints.\n",
    "\n",
    "Now, we can *call* our function if we want to compute $f(x)$ for different values of $x$, instead of having to write the formula several times:"
   ]
  },
  {
   "cell_type": "code",
   "execution_count": null,
   "metadata": {},
   "outputs": [],
   "source": [
    "import math\n",
    "\n",
    "a, b, c = 3, -0.2, math.pi\n",
    "\n",
    "# Display return values on the screen\n",
    "print(f(a), f(b), f(c))\n",
    "\n",
    "# Assign return values to variables\n",
    "f_pi = f(c)\n",
    "print('f(x) evaluated at x = pi is', f_pi)"
   ]
  },
  {
   "cell_type": "markdown",
   "metadata": {},
   "source": [
    "The statement `f(a)` *calls* the function `f()`, with the input value `a`. The instructions in the body of the function are then executed; the result is computed using the value of `a`, and is then assigned to a variable `y`. The *value* of `y` is finally *returned* by the function, and can be assigned to variables and manipulated as usual.\n",
    "\n",
    "| <code>def f(x):<br/>&nbsp;&nbsp;&nbsp;&nbsp;y = (3\\*x - 2) / math.sqrt(2\\*x + 1)<br/>&nbsp;&nbsp;&nbsp;&nbsp;return y</code> | `a, b, c = 3, -0.2, math.pi`  | `f_pi = f(c)` |\n",
    "|:---|:---:|:---:|\n",
    "| ![Defining the function f](graphics/def.png) | ![Assigning a, b, c](graphics/abc.png) | ![Assigning f(c) to f_pi](graphics/func_store.png) |\n",
    "| **1.** A function object is created as a set of instructions, and named `f`. | **2.** Three number objects are created and respectively named `a, b, c`. | **3.** The function `f` is *called* with input value `c`; the instructions are executed. `f` *returns* a new number object, which we store in memory with the name `f_pi`. |\n",
    "\n",
    "#### Return values\n",
    "\n",
    "When the `return` statement is reached, we **exit** the function -- we *return* to the main program with some output value(s).\n",
    "\n",
    "Recall that *code blocks* in Python are delimited with indentation levels -- the body of the function is everything under the definition `def my_func(inputs):`, indented by one level. However, when the `return` statement is reached, the function exits immediately, and any code written after it is simply *not executed* -- even if it is still indented, and part of the function body.\n",
    "\n",
    "The `return` statement is optional -- a function can perform a set of instructions without returning any value. For instance, the `print()` function itself doesn't *return* any value -- it simply prints the value of its input argument(s) on the screen.\n",
    "\n",
    "---\n",
    "**Note:** strictly speaking, all functions return a value. If you omit the `return` statement when writing your function, or if you don't specify any output values, then by default the return value will be `None`. In Python, `None` is the object that represents the absence of a value (although it is, itself, a value).\n",
    "\n",
    "For example, if we try to assign the output value of `print()` to a variable, we get"
   ]
  },
  {
   "cell_type": "code",
   "execution_count": null,
   "metadata": {},
   "outputs": [],
   "source": [
    "a = print('Hello World!')\n",
    "print(a)"
   ]
  },
  {
   "cell_type": "markdown",
   "metadata": {},
   "source": [
    "When the `print()` function is called the first time, it does its job -- it displays its input argument on the screen. However, it doesn't return anything -- strictly speaking, it returns `None`. The value `None` is therefore assigned to the variable `a`.\n",
    "\n",
    "<div style=\"width:50%;margin:auto;\">\n",
    "\n",
    "| `a = print('Hello World!')` |\n",
    "|:--:|\n",
    "| ![print displays on screen, but returns None](graphics/print.png) |\n",
    "| Here, the red card represents a string object with value `Hello World!`. Note that it is never assigned to a variable, and therefore not kept in memory.|\n",
    "\n",
    "</div>\n",
    "\n",
    "---\n",
    "🚩 ***Exercise 14:*** Modify the function `f()` defined earlier, so that:\n",
    "\n",
    "- if the input value `x` is inside the domain of definition of $f$, proceed as before (return the value of $f(x)$);\n",
    "- if the input value `x` is outside the domain of definition of $f$, no value is returned, and instead an appropriate message is displayed on the screen."
   ]
  },
  {
   "cell_type": "code",
   "execution_count": null,
   "metadata": {},
   "outputs": [],
   "source": []
  },
  {
   "cell_type": "code",
   "execution_count": null,
   "metadata": {
    "tags": [
     "solution_cell"
    ]
   },
   "outputs": [],
   "source": [
    "%run scripts/show_solutions.py 'W1_ex14'"
   ]
  },
  {
   "cell_type": "markdown",
   "metadata": {},
   "source": [
    "---\n",
    "🚩 ***Exercise 15:*** Write a function `revert_tuple_skip()`, which takes one input argument, a tuple `tup` of any length, and returns a new tuple which is every second element of `tup`, in reverse order.\n",
    "\n",
    "For example, you should have\n",
    "```python\n",
    "print(revert_tuple_skip((1, 2, 3, 4, 5, 6, 7)))\n",
    "```\n",
    "```\n",
    "(7, 5, 3, 1)\n",
    "```\n",
    "\n",
    "\n",
    "```python\n",
    "\n",
    "print(revert_tuple_skip(('a', 'b', 'c', 'd', 'e', 'f', 'g', 'h')))\n",
    "```\n",
    "```\n",
    "('g', 'e', 'c', 'a')\n",
    "```"
   ]
  },
  {
   "cell_type": "code",
   "execution_count": null,
   "metadata": {},
   "outputs": [],
   "source": []
  },
  {
   "cell_type": "code",
   "execution_count": null,
   "metadata": {
    "tags": [
     "solution_cell"
    ]
   },
   "outputs": [],
   "source": [
    "%run scripts/show_solutions.py 'W1_ex15'"
   ]
  },
  {
   "cell_type": "markdown",
   "metadata": {},
   "source": [
    "---\n",
    "### Returning multiple values\n",
    "\n",
    "To return multiple values from a function, we list them in a **tuple** after the `return` statement. For instance, let us define a function `sum_diff_prod()` which computes and returns the sum, difference, and product of two given numbers:"
   ]
  },
  {
   "cell_type": "code",
   "execution_count": null,
   "metadata": {},
   "outputs": [],
   "source": [
    "def sum_diff_prod(a, b):\n",
    "    \"\"\"\n",
    "    Computes and returns the sum, difference,\n",
    "    and product of a and b.\n",
    "    \"\"\"\n",
    "    return (a+b, a-b, a*b)\n",
    "\n",
    "# Print the output of the function as a tuple\n",
    "print(sum_diff_prod(12, 4))\n",
    "print(sum_diff_prod(0, -1.2))\n",
    "\n",
    "# Unpack the output into different variables\n",
    "s, d, p = sum_diff_prod(-4, -3)\n",
    "print(s)\n",
    "print(p)"
   ]
  },
  {
   "cell_type": "markdown",
   "metadata": {},
   "source": [
    "Two things to note:\n",
    "* Just below the `def` statement, the red string between a pair of triple quotes is called the **docstring** of the function. It describes what the function does -- think of it as a short version of the function's documentation. It is *always* a good idea to write docstrings when defining functions. When the input arguments and output values are not trivially defined, the docstring should list them and give a short description for each.\n",
    "* If a function returns several outputs in a tuple, this tuple can be **unpacked** just like any other, to assign the different return values to different variables.\n",
    "\n",
    "---\n",
    "**📚 Learn more:**\n",
    "* [Defining Functions - Python 3 documentation](https://docs.python.org/3/tutorial/controlflow.html#defining-functions)\n",
    "* [More on Defining Functions - Python 3 documentation](https://docs.python.org/3/tutorial/controlflow.html#more-on-defining-functions)\n",
    "* [PEP 257 - Docstring Conventions](https://www.python.org/dev/peps/pep-0257/)\n",
    "\n",
    "---\n",
    "\n",
    "🚩 ***Exercise 16:*** Write a function `a_divides_b()`, which takes two input arguments `a` and `b` with positive integer values $a, b \\in \\mathbb{N}$ such that $b > a$, and returns two output values `a_div_b` (a Boolean) and `c`, such that:\n",
    "* if $a$ divides $b$ (i.e. if $b$ is a multiple of $a$), `a_div_b` takes the value `True`, and `c` takes the integer value $c \\in \\mathbb{N}$ such that $b = ac$.\n",
    "* if $a$ does not divide $b$, `a_div_b` takes the value `False`, and `c` takes the value `None`.\n",
    "\n",
    "For example, you should have:\n",
    "```python\n",
    "print(a_divides_b(5, 15))\n",
    "```\n",
    "```\n",
    "(True, 3)\n",
    "```\n",
    "\n",
    "\n",
    "```python\n",
    "\n",
    "print(a_divides_b(7, 15))\n",
    "```\n",
    "```\n",
    "(False, None)\n",
    "```"
   ]
  },
  {
   "cell_type": "code",
   "execution_count": null,
   "metadata": {},
   "outputs": [],
   "source": []
  },
  {
   "cell_type": "code",
   "execution_count": null,
   "metadata": {
    "scrolled": true,
    "tags": [
     "solution_cell"
    ]
   },
   "outputs": [],
   "source": [
    "%run scripts/show_solutions.py 'W1_ex16'"
   ]
  }
 ],
 "metadata": {
  "kernelspec": {
   "display_name": "Python 3 (ipykernel)",
   "language": "python",
   "name": "python3"
  },
  "language_info": {
   "codemirror_mode": {
    "name": "ipython",
    "version": 3
   },
   "file_extension": ".py",
   "mimetype": "text/x-python",
   "name": "python",
   "nbconvert_exporter": "python",
   "pygments_lexer": "ipython3",
   "version": "3.9.12"
  }
 },
 "nbformat": 4,
 "nbformat_minor": 4
}

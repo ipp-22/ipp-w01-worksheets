{
 "cells": [
  {
   "cell_type": "markdown",
   "metadata": {},
   "source": [
    "# W1.2. Variables, objects, and data types\n",
    "\n",
    "In this notebook, we introduce the concepts of variables and objects. We explore how Python stores different types of data in memory, and how variables allow us to access that data. Finally, we introduce code comments and style as tools to write readable code.\n",
    "\n",
    "The best way to learn programming is to write code. Don't hesitate to edit the code in the example cells, or add your own code, to test your understanding. You will find practice exercises throughout the notebook, denoted by 🚩 ***Exercise $x$:***.\n",
    "\n",
    "#### Displaying solutions\n",
    "\n",
    "Solutions will be released one week after the worksheets are released, as a new `.txt` file. After uploading the solution file in the same folder as this worksheet, run the following cell to create clickable buttons under each exercise, which will allow you to reveal the solutions."
   ]
  },
  {
   "cell_type": "code",
   "execution_count": null,
   "metadata": {},
   "outputs": [],
   "source": [
    "%run scripts/create_widgets.py 'W1'"
   ]
  },
  {
   "cell_type": "markdown",
   "metadata": {},
   "source": [
    "---\n",
    "## Variables and objects\n",
    "\n",
    "In Python, all data is represented as **objects** of different **types**. So far, we have used *number objects* to manipulate numerical data and do some basic arithmetic (e.g. `0.5`, `np.pi`...). We have also used *string objects* to manipulate text (`'Hello World!'`).\n",
    "\n",
    "A **variable** in Python is simply a *label* to a location in memory, where an object (i.e. data) is stored -- we often say that a variable *points* or *refers* to an object. Variables are what allows you, as the programmer, to interact with data.\n",
    "\n",
    "---\n",
    "**📚 Learn more:**\n",
    "* [Basic Python semantics: Variables and objects](https://jakevdp.github.io/WhirlwindTourOfPython/03-semantics-variables.html) - Whirlwind Tour of Python, Jake VanderPlas\n",
    "* [Data model: objects, values, and types](https://docs.python.org/3/reference/datamodel.html) - Python documentation\n",
    "* [Introducing Python object types](https://www.oreilly.com/library/view/learning-python-3rd/9780596513986/ch04.html) - Learning Python, 3rd ed., Mark Lutz, O'Reilly\n",
    "* [Naming and binding](https://docs.python.org/3/reference/executionmodel.html#naming-and-binding) - Python documentation\n",
    "---\n",
    "\n",
    "\n",
    "## Variable assignment\n",
    "\n",
    "The equal sign `=` is used to **assign** an object with a particular value to a variable. In Python, this operation is referred to as *name binding* --- a name is bound to an object.\n",
    "\n",
    "For example, let's create 3 variables `a`, `b`, and `c`, and assign them the values $1/2$, $6$, and $1/2 + 6$ respectively:"
   ]
  },
  {
   "cell_type": "code",
   "execution_count": null,
   "metadata": {},
   "outputs": [],
   "source": [
    "a = 0.5\n",
    "b = 6\n",
    "c = a + b"
   ]
  },
  {
   "cell_type": "markdown",
   "metadata": {},
   "source": [
    "What happens exactly? We can visualise the computer's memory as a lot of \"boxes\" or \"drawers\", in which we can store some objects:\n",
    "\n",
    "<div style=\"width:90%;\">\n",
    "\n",
    "| `a = 0.5` | `b = 6` |\n",
    "|:---:|:---:|\n",
    "| ![Assigning 0.5 to a](graphics/var1.png) | ![Assigning 6 to b](graphics/var2.png) |\n",
    "| **1.** A number object is created with value 0.5, and stored somewhere in memory. We label its location `a` -- we *assign* the value 0.5 to the variable `a`. | **2.** A number object is created with value 6, and assigned to the variable `b`. |\n",
    "    \n",
    "---\n",
    "    \n",
    "| `a + b` | `c = a + b` |\n",
    "|:---:|:---:|\n",
    "| ![Reading a and b from memory](graphics/var3.png) | ![Computing a+b, assigning result to c](graphics/var4.png) |\n",
    "| **3.** Two number objects are retrieved from the memory using their *names*, `a` and `b`. | **4.** Their values are added together, and the result (a new number object, with value 6.5) is assigned to the variable `c`. |\n",
    "\n",
    "</div>\n",
    "\n",
    "The memory now holds three number objects, with values $0.5$, $6$, and $6.5$, in locations labelled `a`, `b`, and `c` respectively:\n",
    "\n",
    "<img alt=\"Final state of the memory\" src=\"graphics/var5.png\" width=400/>\n",
    "\n",
    "To display these values on the screen, we must explicitly instruct Python to `print()` them, as before:"
   ]
  },
  {
   "cell_type": "code",
   "execution_count": null,
   "metadata": {},
   "outputs": [],
   "source": [
    "print(b)\n",
    "print(c)"
   ]
  },
  {
   "cell_type": "markdown",
   "metadata": {},
   "source": [
    "The `print()` function will look for the locations in memory labelled `b` and `c`, and display the contents on the screen.\n",
    "\n",
    "Note that in an assignment, the right-hand side of the `=` sign is always *evaluated* (calculated) first; then, the resulting value is assigned to the variable on the left-hand side. That is, Python first creates the object and stores it in memory, and then sticks the label on the drawer.\n",
    "\n",
    "---\n",
    "**Note:** when starting a Jupyter Notebook, we start an interactive *session*. This means that if a variable is created somewhere in the notebook, then it will be available for the rest of the session (unless explicitly deleted), and accessible from any code cell.\n",
    "\n",
    "For example, after assigning values to `a`, `b`, and `c` here (and running the cell), typing `print(a)` in the first (or any other) code cell in the notebook will display `0.5` -- try it for yourself.\n",
    "\n",
    "---\n",
    "\n",
    "🚩 ***Exercise:*** Try to work out, before running the cell, what this will display. Run the cell to verify."
   ]
  },
  {
   "cell_type": "code",
   "execution_count": null,
   "metadata": {},
   "outputs": [],
   "source": [
    "x = 1\n",
    "y = x\n",
    "x = 2\n",
    "print(y)\n",
    "\n",
    "a = 8\n",
    "a = a + 1\n",
    "print(a)"
   ]
  },
  {
   "cell_type": "markdown",
   "metadata": {},
   "source": [
    "Let's go through the first example with the drawer analogy:\n",
    "\n",
    "| `x = 1 ` | `y = x` | `x = 2` |\n",
    "|:---:|:---:|:---:|\n",
    "| ![x = 1](graphics/w1_ex4_1.png) | ![y = x](graphics/w1_ex4_2.png) | ![x = 2](graphics/w1_ex4_3.png) |\n",
    "\n",
    "The key here is that `y = x` is also a name binding operation, and it does *not* mathematically equate `x` and `y`. Think like a computer (or a robot), not a mathematician --- these are commands, with specific results, which Python executes in the order you specify.\n",
    "\n",
    "There is another interesting feature here which is particular to Python, and will have important consequences later. Here, when executing the line `y = x`, **no new object is actually created**, because that is simply not necessary. We are not asking Python to compute (or *interpret*) any new values: the right-hand side of `y = x` is just `x`, a variable -- that is, if you recall, a direct reference to an object in memory. Python simply follows that reference to find the drawer where that object is stored, and adds an extra label to it. Now, both `x` and `y` refer to the same object.\n",
    "\n",
    "Then, on the next line, the right-hand side of `x = 2` is a number --- now, Python does need to create a new object with value 2. Since `x` cannot refer to two different objects at once (otherwise, for instance, what would be the result of `print(x)`?), the label `x` is removed from the first object, and assigned to the new object. Now, only `y` is left pointing at 1.\n",
    "\n",
    "---\n",
    "\n",
    "## Data types\n",
    "\n",
    "All Python objects have a specific **type**, meaning that they contain a certain type of data (e.g. letters, numbers, arrays...). Objects of different types are stored differently in memory, have different *attributes*, and different operations can be performed with them.\n",
    "\n",
    "The function `type()` can be used to find out the type of an object.\n",
    "\n",
    "### Strings\n",
    "\n",
    "You have already seen **string** objects -- they are defined as a collection of text characters, surrounded by quotation marks, single or double. The string type is denoted by `str`. For example:"
   ]
  },
  {
   "cell_type": "code",
   "execution_count": null,
   "metadata": {},
   "outputs": [],
   "source": [
    "test_string = \"Hello I am a string of letters!\"\n",
    "print(test_string)\n",
    "print(type(test_string))\n",
    "\n",
    "second_test_string = 'I am also a string'\n",
    "print(second_test_string)"
   ]
  },
  {
   "cell_type": "markdown",
   "metadata": {},
   "source": [
    "It is possible to access a particular character in a string given its position, by **indexing** the string variable. The command `test_string[i]` returns the $i+1$th character in `test_string` (indices start from zero), and the command `test_string[-j]` returns the $j$th character, *starting from the end*. For example"
   ]
  },
  {
   "cell_type": "code",
   "execution_count": null,
   "metadata": {},
   "outputs": [],
   "source": [
    "print(test_string[0])\n",
    "print(test_string[4])\n",
    "print(test_string[-1])\n",
    "print(test_string[-3])"
   ]
  },
  {
   "cell_type": "markdown",
   "metadata": {},
   "source": [
    "---\n",
    "\n",
    "🚩 ***Exercise 4:*** Create a string variable `my_string`, holding some text characters of your choice. Create an integer variable `m` with some value $m$, and use it to print **every $m$th character** of `my_string`.\n",
    "\n",
    "For example, if $m=3$, print the 3rd, 6th, 9th, etc. characters.\n",
    "\n",
    "*Hint:* if you try to print `my_string[i]`, where `i` is greater than the number of characters in `my_string` (minus one, since indices start at zero), you will get an `IndexError` (more on errors next week). The function `len()` can be used to find the length of `my_string`."
   ]
  },
  {
   "cell_type": "code",
   "execution_count": null,
   "metadata": {},
   "outputs": [],
   "source": []
  },
  {
   "cell_type": "code",
   "execution_count": null,
   "metadata": {
    "tags": [
     "solution_cell"
    ]
   },
   "outputs": [],
   "source": [
    "%run scripts/show_solutions.py 'W1_ex4'"
   ]
  },
  {
   "cell_type": "markdown",
   "metadata": {},
   "source": [
    "---\n",
    "### Booleans\n",
    "\n",
    "A Boolean object can only take one of two values: `True` or `False`. The Boolean type is denoted by `bool`.\n",
    "\n",
    "We can use simple logical operators such as `and`, `or`, and `not` with Booleans. For example"
   ]
  },
  {
   "cell_type": "code",
   "execution_count": null,
   "metadata": {},
   "outputs": [],
   "source": [
    "a = True\n",
    "b = False\n",
    "\n",
    "print(type(b))\n",
    "print(a and b)\n",
    "print(a or b)\n",
    "print((not a) or b)"
   ]
  },
  {
   "cell_type": "markdown",
   "metadata": {},
   "source": [
    "We can also use **comparison operators** on number and string objects to construct Boolean objects. For example"
   ]
  },
  {
   "cell_type": "code",
   "execution_count": null,
   "metadata": {
    "scrolled": true
   },
   "outputs": [],
   "source": [
    "x = 3\n",
    "y = 4\n",
    "\n",
    "print(x < y)\n",
    "print(x == y)\n",
    "print(x == y or 5 >= 2)\n",
    "print(x != y)\n",
    "\n",
    "z = x > y\n",
    "print(z)"
   ]
  },
  {
   "cell_type": "markdown",
   "metadata": {},
   "source": [
    "Note, in particular, that `==` tests whether two values are equal, and `!=` tests whether they are different.\n",
    "\n",
    "---\n",
    "🚩 ***Exercise 5:*** Create two variables `u` and `v`, assigned with real non-zero values $u$, $v$ of your choice. Create a third variable, called `same_sign`, assigned with a Boolean object which takes the value `True` if $u$ and $v$ have the same sign, and `False` if they have different signs. Test that `same_sign` is assigned with the correct value for different choices of `u` and `v`."
   ]
  },
  {
   "cell_type": "code",
   "execution_count": null,
   "metadata": {},
   "outputs": [],
   "source": []
  },
  {
   "cell_type": "code",
   "execution_count": null,
   "metadata": {
    "tags": [
     "solution_cell"
    ]
   },
   "outputs": [],
   "source": [
    "%run scripts/show_solutions.py 'W1_ex5'"
   ]
  },
  {
   "cell_type": "markdown",
   "metadata": {},
   "source": [
    "### Floating point numbers\n",
    "\n",
    "Floating point numbers are the ubiquitous way to represent real numbers on a computer.\n",
    "\n",
    "A bit of background: Python's `float` type corresponds to the IEEE 754 double-precision format. In this representation, a fixed amount of memory (64 bits) is allocated to store a binary number (a number made of 0s and 1s): 1 bit for its sign, 52 bits for its *significand* (corresponding to ~16 decimal digits), and 11 bits for its *exponent*.\n",
    "\n",
    "This representation is analogous to what we call \"scientific notation\" for decimal numbers. A rational number $x$ can be represented in scientific notation as\n",
    "\n",
    "$$\n",
    "x = m \\times 10^n,\n",
    "$$\n",
    "\n",
    "where $m$ is the significand and $n$ the exponent. Representing a real number in double-precision floating-point format can be compared to writing $m$ using only the first significant digits of $x$ -- for example, $x = 1234567 \\approx 1.23 \\times 10^6$.\n",
    "\n",
    "Let's try using these `float` number objects:"
   ]
  },
  {
   "cell_type": "code",
   "execution_count": null,
   "metadata": {},
   "outputs": [],
   "source": [
    "print(3.456 + 11.888)\n",
    "print(99.9 / 0.1)\n",
    "print(2.0 * 11.4)\n",
    "print(1.5e-5 + 1.0e-6)\n",
    "\n",
    "print(type(2.0 * 11.4))\n",
    "\n",
    "import numpy as np\n",
    "print(np.sqrt(2.0))"
   ]
  },
  {
   "cell_type": "markdown",
   "metadata": {},
   "source": [
    "Here, we have done some basic calculations using floating point numbers. Note that the way to write, e.g., $1 \\times 10^{-5}$ is to write `1.0e-5`, the `e` here meaning \"$\\times 10$ to a power\" (*not* $e$ as in $e^x$)."
   ]
  },
  {
   "cell_type": "markdown",
   "metadata": {},
   "source": [
    "---\n",
    "**📚 Learn more:**\n",
    "* [Double-precision floating-point format - Wikipedia](https://en.wikipedia.org/wiki/Double-precision_floating-point_format)\n",
    "* [What Every Computer Scientist Should Know About Floating-Point Arithmetic](https://docs.oracle.com/cd/E19957-01/806-3568/ncg_goldberg.html) -- a great reference!\n",
    "* [Floating point arithmetic: Issues and limitations - Python documentation](https://docs.python.org/3/tutorial/floatingpoint.html)\n",
    "---\n",
    "\n",
    "🚩 ***Exercise 6:*** Find a *small* floating-point value `x` such that `print(x == 0)` displays `False`, but `print(x + 1 == 1)` displays `True`. Can you explain what you think is happening?\n",
    "\n",
    "*Hint:* this section of the notebook contains a clue as to what the order of magnitude of `x` may be."
   ]
  },
  {
   "cell_type": "code",
   "execution_count": null,
   "metadata": {},
   "outputs": [],
   "source": []
  },
  {
   "cell_type": "code",
   "execution_count": null,
   "metadata": {
    "tags": [
     "solution_cell"
    ]
   },
   "outputs": [],
   "source": [
    "%run scripts/show_solutions.py 'W1_ex6'"
   ]
  },
  {
   "cell_type": "markdown",
   "metadata": {},
   "source": [
    "### Integers\n",
    "\n",
    "Python can represent integers with unlimited precision (i.e., arbitrarily large, as long as there is space left in memory to store them!). The integer type is denoted by `int`. We can add, subtract, multiply, and divide integers in the usual way:"
   ]
  },
  {
   "cell_type": "code",
   "execution_count": null,
   "metadata": {},
   "outputs": [],
   "source": [
    "print(3 + 7)\n",
    "print(375 - 2558)\n",
    "print(913875 * 2193748502)\n",
    "print(34 ** 312)\n",
    "\n",
    "print(35 // 5)\n",
    "print(39 // 5)\n",
    "print(35 % 5)\n",
    "print(39 % 5)"
   ]
  },
  {
   "cell_type": "markdown",
   "metadata": {},
   "source": [
    "Now, what if we use ordinary division (i.e. `/`) instead of integer division?"
   ]
  },
  {
   "cell_type": "code",
   "execution_count": null,
   "metadata": {},
   "outputs": [],
   "source": [
    "print(39 / 5)\n",
    "print(type(39 / 5))"
   ]
  },
  {
   "cell_type": "markdown",
   "metadata": {},
   "source": [
    "Even though we operate with two `int` objects, the result is **cast** (i.e. its type is automatically set) to a `float` object.\n",
    "\n",
    "### Type-casting, duck-typing\n",
    "\n",
    "Type-casting is the technical name for changing the type of an object. In the last example, type-casting happened automatically -- the result of `39 / 5` could not be represented as an `int`. However, this doesn't always happen.\n",
    "\n",
    "If we want to *explicitly* change the type of an object, in some cases it is possible to use functions like `int()`, `float()`, or `str()`. Python will then attempt to interpret the content of the object and come up with a new representation in the desired type. Some examples:"
   ]
  },
  {
   "cell_type": "code",
   "execution_count": null,
   "metadata": {},
   "outputs": [],
   "source": [
    "i = 2566\n",
    "print(type(i))\n",
    "print(float(i))\n",
    "print(str(i))\n",
    "\n",
    "string_number = '273'\n",
    "print(float(string_number))\n",
    "print(int(string_number))"
   ]
  },
  {
   "cell_type": "markdown",
   "metadata": {},
   "source": [
    "However, for instance, the following will not work, as Python does not know how to interpret the string `'twenty'` as a number. The error message gives a hint: Python can only convert strings whose characters are decimal numbers, and doesn't know how to read letters or words."
   ]
  },
  {
   "cell_type": "code",
   "execution_count": null,
   "metadata": {},
   "outputs": [],
   "source": [
    "string_number = 'twenty'\n",
    "print(int(string_number))"
   ]
  },
  {
   "cell_type": "markdown",
   "metadata": {},
   "source": [
    "Now, note that, in all examples so far, Python has *assumed* the type of an object by the way you have created it, and the way you use it. We call this behaviour **duck-typing**, because\n",
    "> If it looks like a duck, walks like a duck, and quacks like a duck, then it's a duck.\n",
    "\n",
    "Python uses duck-typing, and therefore doesn't require you to specify the type of an object before you are allowed to create or assign it. (This is not the case in some programming languages, e.g. C/C++, Java...).\n",
    "\n",
    "🚩 ***Exercise 7:*** The `bool()` function casts an object to the Boolean type. Run the code cell below; from the results, can you infer what happens when different object types are cast to a Boolean? Don't hesitate to write more tests to complete your understanding."
   ]
  },
  {
   "cell_type": "code",
   "execution_count": null,
   "metadata": {},
   "outputs": [],
   "source": [
    "i = 2566\n",
    "print(bool(i))\n",
    "\n",
    "i = 0\n",
    "print(bool(i))\n",
    "\n",
    "i = 0.0\n",
    "print(bool(i))\n",
    "\n",
    "i = 1e-38\n",
    "print(bool(i))\n",
    "\n",
    "i = -3.4\n",
    "print(bool(i))\n",
    "\n",
    "i = '273'\n",
    "print(bool(i))\n",
    "\n",
    "i = '0'\n",
    "print(bool(i))\n",
    "\n",
    "i = ''\n",
    "print(bool(i))\n",
    "\n",
    "i = 'False'\n",
    "print(bool(i))"
   ]
  },
  {
   "cell_type": "code",
   "execution_count": null,
   "metadata": {
    "scrolled": true,
    "tags": [
     "solution_cell"
    ]
   },
   "outputs": [],
   "source": [
    "%run scripts/show_solutions.py 'W1_ex7'"
   ]
  },
  {
   "cell_type": "markdown",
   "metadata": {},
   "source": [
    "---\n",
    "\n",
    "## Writing readable code: comments and style\n",
    "\n",
    "### Code comments\n",
    "\n",
    "When writing code, it is *always* a good idea to annotate it with **comments** to explain what each step is doing. In Python, code comments start with a `#` character; anything on the same line after the `#` character is ignored by the Python interpreter.\n",
    "\n",
    "For example, here is a suitably commented piece of code:"
   ]
  },
  {
   "cell_type": "code",
   "execution_count": null,
   "metadata": {},
   "outputs": [],
   "source": [
    "# Create 2 integer variables a and b\n",
    "a = 4\n",
    "b = -8\n",
    "\n",
    "# Find out whether a divides b\n",
    "print(b % a == 0)"
   ]
  },
  {
   "cell_type": "markdown",
   "metadata": {},
   "source": [
    "Code comments are essential, not only if other people read your code (to help them understand what you are doing), but also for yourself! When coming back to a piece of code, even after just a few days, it can be surprisingly difficult to remember what you were doing by just reading the code -- having comments annotating your script is immensely helpful.\n",
    "\n",
    "From now on, all your work for this course (and beyond!) should be sufficiently commented. This means that any step in your code that is not trivial should be explained by a brief code comment.\n",
    "\n",
    "---\n",
    "**Note:** while writing a *draft* piece of code and trying different approaches, instead of deleting obsolete or unneeded code, you can simply comment it out. This is an quick-and-easy way to ensure that you don't permanently delete working code by accident, and to keep incomplete or buggy code snippets around for later use.\n",
    "\n",
    "In Jupyter notebooks, select any code you'd like to comment out (or uncomment), and press <kbd>Ctrl</kbd>+<kbd>/</kbd> to toggle code comments.\n",
    "\n",
    "---\n",
    "\n",
    "### Code style\n",
    "\n",
    "Generally, the structure, variable name, and commenting choices are referred to as the **style** of your code. Style is important for code readability, and for consistency when working as part of a team. You may wish to take a look at different style guides, such as e.g. [the official guide for Python developers](https://www.python.org/dev/peps/pep-0008).\n",
    "\n",
    "For the purpose of this course, don't worry too much about following these guidelines too strictly. The important points to take away is that your code should aim to be easily readable, and *consistently styled*.\n",
    "\n",
    "One particular practice I would recommend to adhere to is featured in the [Whitespace in Expressions and Statements](https://www.python.org/dev/peps/pep-0008/#whitespace-in-expressions-and-statements) section of PEP-8. To summarise it:"
   ]
  },
  {
   "cell_type": "code",
   "execution_count": null,
   "metadata": {},
   "outputs": [],
   "source": [
    "import numpy as np\n",
    "\n",
    "#Some not very easily readable code...\n",
    "a=(np.sqrt(5))\n",
    "a +=2 *np.exp(4*np.pi)-np.sin (a**2)\n",
    "s='I am a string!'\n",
    "print(s[ 3 ])\n",
    "\n",
    "\n",
    "# A little better...\n",
    "a = np.sqrt(5)\n",
    "a += 2 * np.cos(4 * np.pi**2) - np.sin(a**2)\n",
    "\n",
    "s = 'I am a string!'\n",
    "print(s[3])"
   ]
  },
  {
   "cell_type": "markdown",
   "metadata": {},
   "source": [
    "🚩 ***Exercise 8:*** The following code finds the roots of the quadratic polynomial $p(x) = ax^2 + bx + c$. However, the author wrote it in a hurry. What can you do to improve it?"
   ]
  },
  {
   "cell_type": "code",
   "execution_count": null,
   "metadata": {},
   "outputs": [],
   "source": [
    "a=2\n",
    "b=.5\n",
    "c=- 9\n",
    "\n",
    "import numpy\n",
    "x1=(-b-numpy.sqrt(b**2 -4*a*c)) / (2*a)\n",
    "x2=(-b+numpy.sqrt(b**2 -4*a*c)) / (2*a)\n",
    "a*x1**2+b*x1+c"
   ]
  },
  {
   "cell_type": "code",
   "execution_count": null,
   "metadata": {
    "tags": [
     "solution_cell"
    ]
   },
   "outputs": [],
   "source": [
    "%run scripts/show_solutions.py 'W1_ex8'"
   ]
  }
 ],
 "metadata": {
  "celltoolbar": "Tags",
  "kernelspec": {
   "display_name": "Python 3 (ipykernel)",
   "language": "python",
   "name": "python3"
  },
  "language_info": {
   "codemirror_mode": {
    "name": "ipython",
    "version": 3
   },
   "file_extension": ".py",
   "mimetype": "text/x-python",
   "name": "python",
   "nbconvert_exporter": "python",
   "pygments_lexer": "ipython3",
   "version": "3.9.12"
  }
 },
 "nbformat": 4,
 "nbformat_minor": 4
}
